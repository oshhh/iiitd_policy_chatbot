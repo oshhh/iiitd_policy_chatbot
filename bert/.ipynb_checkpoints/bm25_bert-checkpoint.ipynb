{
 "cells": [
  {
   "cell_type": "code",
   "execution_count": 1,
   "metadata": {
    "colab": {
     "base_uri": "https://localhost:8080/"
    },
    "id": "FQJY9PsKC9ds",
    "outputId": "157e989d-c279-4e52-bb5f-b1415ffad4a6"
   },
   "outputs": [
    {
     "name": "stdout",
     "output_type": "stream",
     "text": [
      "Collecting transformers\n",
      "\u001b[?25l  Downloading https://files.pythonhosted.org/packages/81/89/f07e7a884072ad37b1b6b1578637ab36152e0251d74abb950d967a59904e/transformers-4.3.1-py3-none-any.whl (1.8MB)\n",
      "\u001b[K     |████████████████████████████████| 1.8MB 8.5MB/s \n",
      "\u001b[?25hRequirement already satisfied: packaging in /usr/local/lib/python3.6/dist-packages (from transformers) (20.9)\n",
      "Requirement already satisfied: filelock in /usr/local/lib/python3.6/dist-packages (from transformers) (3.0.12)\n",
      "Collecting tokenizers<0.11,>=0.10.1\n",
      "\u001b[?25l  Downloading https://files.pythonhosted.org/packages/fd/5b/44baae602e0a30bcc53fbdbc60bd940c15e143d252d658dfdefce736ece5/tokenizers-0.10.1-cp36-cp36m-manylinux2010_x86_64.whl (3.2MB)\n",
      "\u001b[K     |████████████████████████████████| 3.2MB 43.4MB/s \n",
      "\u001b[?25hRequirement already satisfied: numpy>=1.17 in /usr/local/lib/python3.6/dist-packages (from transformers) (1.19.5)\n",
      "Collecting sacremoses\n",
      "\u001b[?25l  Downloading https://files.pythonhosted.org/packages/7d/34/09d19aff26edcc8eb2a01bed8e98f13a1537005d31e95233fd48216eed10/sacremoses-0.0.43.tar.gz (883kB)\n",
      "\u001b[K     |████████████████████████████████| 890kB 41.4MB/s \n",
      "\u001b[?25hRequirement already satisfied: requests in /usr/local/lib/python3.6/dist-packages (from transformers) (2.23.0)\n",
      "Requirement already satisfied: tqdm>=4.27 in /usr/local/lib/python3.6/dist-packages (from transformers) (4.41.1)\n",
      "Requirement already satisfied: importlib-metadata; python_version < \"3.8\" in /usr/local/lib/python3.6/dist-packages (from transformers) (3.4.0)\n",
      "Requirement already satisfied: dataclasses; python_version < \"3.7\" in /usr/local/lib/python3.6/dist-packages (from transformers) (0.8)\n",
      "Requirement already satisfied: regex!=2019.12.17 in /usr/local/lib/python3.6/dist-packages (from transformers) (2019.12.20)\n",
      "Requirement already satisfied: pyparsing>=2.0.2 in /usr/local/lib/python3.6/dist-packages (from packaging->transformers) (2.4.7)\n",
      "Requirement already satisfied: six in /usr/local/lib/python3.6/dist-packages (from sacremoses->transformers) (1.15.0)\n",
      "Requirement already satisfied: click in /usr/local/lib/python3.6/dist-packages (from sacremoses->transformers) (7.1.2)\n",
      "Requirement already satisfied: joblib in /usr/local/lib/python3.6/dist-packages (from sacremoses->transformers) (1.0.0)\n",
      "Requirement already satisfied: urllib3!=1.25.0,!=1.25.1,<1.26,>=1.21.1 in /usr/local/lib/python3.6/dist-packages (from requests->transformers) (1.24.3)\n",
      "Requirement already satisfied: idna<3,>=2.5 in /usr/local/lib/python3.6/dist-packages (from requests->transformers) (2.10)\n",
      "Requirement already satisfied: chardet<4,>=3.0.2 in /usr/local/lib/python3.6/dist-packages (from requests->transformers) (3.0.4)\n",
      "Requirement already satisfied: certifi>=2017.4.17 in /usr/local/lib/python3.6/dist-packages (from requests->transformers) (2020.12.5)\n",
      "Requirement already satisfied: typing-extensions>=3.6.4; python_version < \"3.8\" in /usr/local/lib/python3.6/dist-packages (from importlib-metadata; python_version < \"3.8\"->transformers) (3.7.4.3)\n",
      "Requirement already satisfied: zipp>=0.5 in /usr/local/lib/python3.6/dist-packages (from importlib-metadata; python_version < \"3.8\"->transformers) (3.4.0)\n",
      "Building wheels for collected packages: sacremoses\n",
      "  Building wheel for sacremoses (setup.py) ... \u001b[?25l\u001b[?25hdone\n",
      "  Created wheel for sacremoses: filename=sacremoses-0.0.43-cp36-none-any.whl size=893261 sha256=432e38643a25ede012b936e1c5daa4f79582f5e8b55b8ec80f800945622375b9\n",
      "  Stored in directory: /root/.cache/pip/wheels/29/3c/fd/7ce5c3f0666dab31a50123635e6fb5e19ceb42ce38d4e58f45\n",
      "Successfully built sacremoses\n",
      "Installing collected packages: tokenizers, sacremoses, transformers\n",
      "Successfully installed sacremoses-0.0.43 tokenizers-0.10.1 transformers-4.3.1\n"
     ]
    }
   ],
   "source": [
    "!pip install transformers\n"
   ]
  },
  {
   "cell_type": "code",
   "execution_count": 2,
   "metadata": {
    "colab": {
     "base_uri": "https://localhost:8080/"
    },
    "id": "CzA_52kpEXwb",
    "outputId": "d8b440a6-21b8-4465-afac-6aea7730c894"
   },
   "outputs": [
    {
     "name": "stdout",
     "output_type": "stream",
     "text": [
      "Mounted at /content/drive\n"
     ]
    }
   ],
   "source": [
    "from google.colab import drive\n",
    "drive.mount('/content/drive')"
   ]
  },
  {
   "cell_type": "markdown",
   "metadata": {
    "id": "aJU2Wj8uCxqP"
   },
   "source": [
    "Importing required modules\n"
   ]
  },
  {
   "cell_type": "code",
   "execution_count": 3,
   "metadata": {
    "id": "4g5E8IdmCRep"
   },
   "outputs": [],
   "source": [
    "import itertools\n",
    "import os\n",
    "from gensim.summarization.bm25 import BM25\n",
    "from transformers import AutoTokenizer, AutoModelForQuestionAnswering, QuestionAnsweringPipeline\n",
    "import json\n",
    "import spacy"
   ]
  },
  {
   "cell_type": "code",
   "execution_count": 4,
   "metadata": {
    "id": "88_n9dI2DAz4"
   },
   "outputs": [],
   "source": [
    "class PassageRetrieval:\n",
    "\n",
    "    def __init__(self, nlp):\n",
    "        self.tokenize = lambda text: [token.lemma_ for token in nlp(text)]\n",
    "        self.bm25 = None\n",
    "        self.passages = None\n",
    "\n",
    "    def preprocess(self, doc):\n",
    "        passages = [p for p in doc.split('\\n') if p and not p.startswith('=')]\n",
    "        return passages\n",
    "\n",
    "    def fit(self, docs):\n",
    "        # passages = list(itertools.chain(*map(self.preprocess, docs)))\n",
    "        corpus = [self.tokenize(p) for p in passages]\n",
    "        self.bm25 = BM25(corpus)\n",
    "        self.passages = passages\n",
    "\n",
    "    def most_similar(self, question, topn=10):\n",
    "        tokens = self.tokenize(question)\n",
    "        average_idf = sum(map(lambda k: float(self.bm25.idf[k]), self.bm25.idf.keys())) / len(self.bm25.idf.keys())\n",
    "        scores = self.bm25.get_scores(tokens, average_idf)\n",
    "        pairs = [(s, i) for i, s in enumerate(scores)]\n",
    "        pairs.sort(reverse=True)\n",
    "        passages = [self.passages[i] for _, i in pairs[:topn]]\n",
    "        return passages"
   ]
  },
  {
   "cell_type": "code",
   "execution_count": 5,
   "metadata": {
    "id": "l3Ozu-cuVkKW"
   },
   "outputs": [],
   "source": [
    "class bert:\n",
    "\n",
    "  def __init__(self, model):\n",
    "    self.tokenizer = AutoTokenizer.from_pretrained(model)\n",
    "    self.model = AutoModelForQuestionAnswering.from_pretrained(\"/content/drive/My Drive/bert_model/bert_policy_documents\")\n",
    "    self.bert = QuestionAnsweringPipeline(model = self.model, tokenizer = self.tokenizer)\n",
    "  \n",
    "  def evaluateAnswer(self, question, sentence):\n",
    "    answer = self.bert(question = question, context = sentence)\n",
    "    return answer"
   ]
  },
  {
   "cell_type": "code",
   "execution_count": 6,
   "metadata": {
    "id": "J-mw2AeDgubZ"
   },
   "outputs": [],
   "source": [
    "def completeAnswer(answer, para):\n",
    "  for p in para:\n",
    "    if answer in p:\n",
    "      return p\n",
    "  return None"
   ]
  },
  {
   "cell_type": "code",
   "execution_count": 7,
   "metadata": {
    "id": "ehXtdUgwCw-R"
   },
   "outputs": [],
   "source": [
    "def getPassages(filename):\n",
    "    with open(filename) as file:\n",
    "        data = json.load(file)\n",
    "    passages = list()\n",
    "    for i in data[\"vertices\"][\"paragraphs\"]:\n",
    "      passages.append(i[\"text\"])\n",
    "    return passages"
   ]
  },
  {
   "cell_type": "code",
   "execution_count": 8,
   "metadata": {
    "id": "IRk5CyljEUVD"
   },
   "outputs": [],
   "source": [
    "passages = getPassages(\"handbook_graph.json\")"
   ]
  },
  {
   "cell_type": "code",
   "execution_count": 10,
   "metadata": {
    "colab": {
     "base_uri": "https://localhost:8080/"
    },
    "id": "5Xp7lSx6GNFh",
    "outputId": "4b7733f6-159d-4170-e32f-c05f8d025285"
   },
   "outputs": [
    {
     "name": "stdout",
     "output_type": "stream",
     "text": [
      "533\n",
      "Q: can I take up internships during a semester?\n",
      "Ans: Registering in the summer term is optional. A student may register for up to 6 credits of courses that are offered during the summer term (inclusive of SG or CW credits). Out of to 6 credits of courses that are offered during the summer term (inclusive of SG or CW credits), for students who have completed the 2nd year of to 6 credits of courses that are offered during the summer term (inclusive of SG or CW credits) btech program, may be allowed to take up to 4 credits for IP or IS or UR or BTP. An exception may be made for the students of the graduating batch, who may be allowed to take up to 8 credits. The registration shall be done just before the start of the term. There will not be any late registration in the summer term and a student shall not be allowed to add a course after registration. \n",
      "---------------------\n",
      "423\n",
      "Q: what is the i grade\n",
      "Ans: The F and X grades are fail grades and the student shall be required to repeat the course. If the course is a compulsory course, the student shall repeat the same course in another semester or summer when the course is offered. In the case of an elective or optional course, the student can replace the course by another elective course. \n",
      "---------------------\n",
      "351\n",
      "Q: can I replace a core course on getting an F grade?\n",
      "Ans: For some important core courses, refresher modules may be offered during vacations for students’ benefit. Based on students’ performance in the refresher module, only students with F or D grade may be allowed at most half the letter grade improvement (i.e. improvement from F to D or D to C- -), although any student can attend. Decision regarding whether these modules are to be offered during vacation and whether these modules may be used for grade enhancement will be taken every year. As with a grade change, this grade improvement will be approved and authorized by Chairman, Senate. \n",
      "---------------------\n",
      "388\n",
      "Q: how can I get the grade given to me in a course changed?\n",
      "Ans: For at most one compulsory (core) course, after getting an F twice in the course, a student may be allowed to replace it by an elective course of the respective discipline with the prior approval from DOAA. \n",
      "---------------------\n",
      "359\n",
      "Q: how will my cgpa be computed if I do more than 156 credits?\n",
      "Ans: When a student registers for more credits than the stipulated normal load, it is called the overload. First year students cannot take any overload. Second year students having a CGPA of more than 8.0 can take an overload of up to 2 additional credits over 20 credits. Third and fourth year students having a CGPA of more than 8.0 can take an overload of up to 2 additional credits over 22 credits. \n",
      "---------------------\n",
      "218\n",
      "Q: is there any rule for attendance?\n",
      "Ans: A student is expected to attend all classes. For any absence of more than two days, A student should apply for and take a leave of absence. Penalty for students’ whose attendance falls below a threshold will be as decided by Senate from time to time, and communicated to students. \n",
      "---------------------\n",
      "389\n",
      "Q: how can I apply for a semester leave?\n",
      "Ans: When a student registers for more credits than the stipulated normal load, it is called the overload. First year students cannot take any overload. Second year students having a CGPA of more than 8.0 can take an overload of up to 2 additional credits over 20 credits. Third and fourth year students having a CGPA of more than 8.0 can take an overload of up to 2 additional credits over 22 credits. \n",
      "---------------------\n",
      "216\n",
      "Q: how can I apply for branch transfer from ece to cse\n",
      "Ans: Students admitted through AICTE need to produce NOC from AICTE if applying for transfer to another program. \n",
      "---------------------\n",
      "412\n",
      "Q: what is the minimum credit requirement for graduation?\n",
      "Ans: btech student, who has already completed B.Tech or B.Tech graduation requirement (including registration for a minimum of 8 semesters on campus), will be allowed to register for at most two extra courses to improve B.Tech or B.Tech CGPA. Registration after completion of 156 credits, required for graduation, will be allowed in only one extra semester. Further, registration of extra credits will be permitted provided he or B.Tech pays fees for that extra semester. Moreover, such students will not be considered for any award or medal. \n",
      "---------------------\n",
      "301\n",
      "Q: what are the requirements to get an honours degree?\n",
      "Ans: A non-degree student is a student registered for a degree in a recognized university or  institute in India or abroad and who is officially sponsored by that Institute or university to complete part of the academic requirements at IIIT-Delhi. Such students may do courses or projects in IIIT-Delhi, and will be given transcripts for the academic work carried out at IIIT-Delhi. During Such students stay at IIIT-Delhi, such students will also be governed by all academic and disciplinary rules of IIIT-Delhi. Credits earned by a non-degree student at IIIT-Delhi cannot be applied towards any degree or diploma offered by IIIT-Delhi at any time. The admission to non-degree status is decided on a case to case basis. The applications are received by the DOAA. \n",
      "---------------------\n",
      "223\n",
      "Q: when is the convocation held?\n",
      "Ans: When the student registers for less than 16 credits in a semester, the student is called the underload. A student may be allowed, with permission of the DOAA an underload of a maximum of 4 credits below 16 credits. \n",
      "---------------------\n"
     ]
    }
   ],
   "source": [
    "SPACY_MODEL = os.environ.get(\"SPACY_MODEL\", \"en_core_web_sm\")\n",
    "nlp = spacy.load(SPACY_MODEL, disable = [\"ner\",\"parser\",\"textcat\"])\n",
    "\n",
    "\n",
    "retreivePassage = PassageRetrieval(nlp)\n",
    "retreivePassage.fit(passages)\n",
    "bertModel = bert(\"deepset/bert-base-cased-squad2\")\n",
    "\n",
    "# questions = [\n",
    "#              \"How do I calculate cgpa\",\n",
    "#              \"What is the normal load for UG students\",\n",
    "#              \"If I fail a course and take it again in the later semester, will my earlier course with F grade be removed from the transcript\",\n",
    "#             \" what is the process of registration?\",\n",
    "#             \"how many seats are there in cse for admission?\",\n",
    "#              \" what is the admission criteria for btech\",\n",
    "#              \"I am in 1st year. Can I take overload?\",\n",
    "#              \"I am in 2nd year. Can I take overload?\",\n",
    "#              \"what happens if I miss the endsem because of a medical reason?\",\n",
    "#              \"what happens if I fail a course?\",\n",
    "#              \" what happens if I get an F grade in a course?\",\n",
    "#              \"How can I calculate sgpa\",\n",
    "#              \"What if I pass all my semesters\",\n",
    "#              \"What about canteen\",\n",
    "#              \"Will I get hostel\",\n",
    "#              \"I dont know anything about IIIT\",\n",
    "#              \"Who was abraham lincoln\",\n",
    "#              \"Can i take 8 credits of online courses in a semester\",\n",
    "#              \"how many credits do i need to graduate\",\n",
    "#              \"how is my semester graded\",\n",
    "#              \"what if I do more than 156 credits in my btech course\"\n",
    "# ]\n",
    "questions = [\n",
    "             \"can I take up internships during a semester?\",\n",
    "              \"what is the i grade\",\n",
    "              \"can I replace a core course on getting an F grade?\",\n",
    "              \"how can I get the grade given to me in a course changed?\",\n",
    "              \"how will my cgpa be computed if I do more than 156 credits?\",\n",
    "              \"is there any rule for attendance?\",\n",
    "              \"how can I apply for a semester leave?\",\n",
    "              \"how can I apply for branch transfer from ece to cse\",\n",
    "              \"what is the minimum credit requirement for graduation?\",\n",
    "              \"what are the requirements to get an honours degree?\",\n",
    "              \"when is the convocation held?\"\n",
    "]\n",
    "for q in questions:\n",
    "  topAnswer = retreivePassage.most_similar(q, topn = 6)\n",
    "  # print(topAnswer)\n",
    "  sentence = \"\"\n",
    "  for i in topAnswer:\n",
    "    # print(i)\n",
    "    sentence += i + \" \"\n",
    "  ans = bertModel.evaluateAnswer(q, sentence)\n",
    "  print(len(sentence.split()))\n",
    "  print(\"Q:\",q)\n",
    "  print(\"Ans:\",completeAnswer(ans[\"answer\"], topAnswer))\n",
    "  # print(len(sentence.split()))\n",
    "  print(\"---------------------\")"
   ]
  }
 ],
 "metadata": {
  "colab": {
   "name": "bm25_bert.ipynb",
   "provenance": []
  },
  "kernelspec": {
   "display_name": "Python 3",
   "language": "python",
   "name": "python3"
  },
  "language_info": {
   "codemirror_mode": {
    "name": "ipython",
    "version": 3
   },
   "file_extension": ".py",
   "mimetype": "text/x-python",
   "name": "python",
   "nbconvert_exporter": "python",
   "pygments_lexer": "ipython3",
   "version": "3.8.2"
  }
 },
 "nbformat": 4,
 "nbformat_minor": 1
}
