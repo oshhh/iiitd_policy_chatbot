{
 "cells": [
  {
   "cell_type": "markdown",
   "metadata": {},
   "source": [
    "# Extract triples using OpenIE 5 and OLLIE"
   ]
  },
  {
   "cell_type": "code",
   "execution_count": 1,
   "metadata": {},
   "outputs": [],
   "source": [
    "import json\n",
    "from pyopenie import OpenIE5\n",
    "\n",
    "def read_text(filename):\n",
    "    raw_text = ''\n",
    "    with open(filename) as file:\n",
    "        for line in file:\n",
    "            raw_text += line\n",
    "    return raw_text\n",
    "\n",
    "def write_text(text, filename):\n",
    "    with open(filename, 'w') as file:\n",
    "        for line in text:\n",
    "            file.write(line)\n",
    "            \n",
    "def read_json(filename):\n",
    "    with open(filename) as file:\n",
    "        data = json.load(file)\n",
    "    return data\n",
    "\n",
    "def write_json(data, filename):\n",
    "    with open(filename, 'w') as file:\n",
    "        json.dump(data, file)"
   ]
  },
  {
   "cell_type": "code",
   "execution_count": 6,
   "metadata": {},
   "outputs": [
    {
     "name": "stdout",
     "output_type": "stream",
     "text": [
      "confidence\targ1\trel\targ2\tenabler\tattribution\ttext\tpattern\tdependencies\n"
     ]
    }
   ],
   "source": [
    "# read triples file of OLLIE and convert to JSON format\n",
    "ollie_output = read_text('../data/ollie_output.txt')\n",
    "triples = {}\n",
    "extractions = ollie_output.split('\\n')\n",
    "title, extractions = extractions[0], extractions[1:]\n",
    "print(title)\n",
    "for extraction in extractions:\n",
    "    # skip empty line\n",
    "    if not extraction:\n",
    "        continue\n",
    "    extraction = extraction.split('\\t')\n",
    "    if extraction[4] == 'None':\n",
    "        extraction[4] = None\n",
    "    if extraction[5] == 'None':\n",
    "        extraction[5] = None\n",
    "    if extraction[6] not in triples:\n",
    "        triples[extraction[6]] = []\n",
    "    triples[extraction[6]].append({\n",
    "        'subject': extraction[1],\n",
    "        'relation': extraction[2],\n",
    "        'object': [extraction[3]],\n",
    "        'enabler': extraction[4],\n",
    "        'attribution': extraction[5]  \n",
    "    })\n",
    "\n",
    "write_json(triples, '../data/ollie_triples.json')"
   ]
  },
  {
   "cell_type": "code",
   "execution_count": 3,
   "metadata": {},
   "outputs": [],
   "source": [
    "text = read_text('../data/preprocessed_text.txt')\n",
    "sentences = text.split('\\n')[:-1]\n",
    "\n",
    "# Get tripples from OpenIE5 for the preprocessed text\n",
    "edges = []\n",
    "\n",
    "triples = {}\n",
    "\n",
    "extractor = OpenIE5('http://localhost:8000')\n",
    "for s_no in range(len(sentences)):\n",
    "    sentence = sentences[s_no]\n",
    "    extractions = extractor.extract(sentence)\n",
    "    triples[sentence] = []\n",
    "    for extraction in extractions:\n",
    "        bad_extraction = False\n",
    "        extraction = extraction['extraction']\n",
    "        if len(extraction['arg1']['text'].split()) > 5:\n",
    "            bad_extraction = True\n",
    "    # \t\tprint(extraction['arg1']['text'], '|', extraction['rel']['text'] , '|', *[extraction['arg2s'][i]['text'] + ',' for i in range(len(extraction['arg2s']))], extraction['negated'])\n",
    "\n",
    "        triples[sentence].append({\n",
    "            'subject' : extraction['arg1']['text'], \n",
    "            'relation': extraction['rel']['text'], \n",
    "            'object': [e['text'] for e in extraction['arg2s']],\n",
    "            'negated': extraction['negated']\n",
    "        })\n",
    "    \n",
    "        edges.append({'$' + str(s_no), extraction['rel']['text'], extraction['arg1']['text']})\n",
    "        for i in range(len(extraction['arg2s'])):\n",
    "            if len(extraction['arg2s'][i]['text'].split()) > 5:\n",
    "                bad_extraction = True\n",
    "            edges.append(['$' + str(s_no), 'object', extraction['arg2s'][i]['text']])\n",
    "        if extraction['negated']:\n",
    "            edges.append(['$' + str(s_no), 'type', 'Don\\'t'])"
   ]
  },
  {
   "cell_type": "code",
   "execution_count": 4,
   "metadata": {},
   "outputs": [],
   "source": [
    "write_json(triples, '../data/openie5_triples.json')"
   ]
  },
  {
   "cell_type": "code",
   "execution_count": null,
   "metadata": {},
   "outputs": [],
   "source": []
  }
 ],
 "metadata": {
  "kernelspec": {
   "display_name": "Python 3",
   "language": "python",
   "name": "python3"
  },
  "language_info": {
   "codemirror_mode": {
    "name": "ipython",
    "version": 3
   },
   "file_extension": ".py",
   "mimetype": "text/x-python",
   "name": "python",
   "nbconvert_exporter": "python",
   "pygments_lexer": "ipython3",
   "version": "3.8.2"
  }
 },
 "nbformat": 4,
 "nbformat_minor": 4
}
