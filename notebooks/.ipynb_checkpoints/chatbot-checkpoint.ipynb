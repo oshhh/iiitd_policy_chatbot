{
 "cells": [
  {
   "cell_type": "code",
   "execution_count": 1,
   "metadata": {},
   "outputs": [],
   "source": [
    "from qa_helper import *"
   ]
  },
  {
   "cell_type": "code",
   "execution_count": 2,
   "metadata": {},
   "outputs": [
    {
     "name": "stdout",
     "output_type": "stream",
     "text": [
      "86\n"
     ]
    }
   ],
   "source": [
    "questions = read_text('../data/kg/questions.txt').split('\\n')\n",
    "print(len(questions))"
   ]
  },
  {
   "cell_type": "code",
   "execution_count": 3,
   "metadata": {},
   "outputs": [
    {
     "name": "stdout",
     "output_type": "stream",
     "text": [
      "loading kg\n",
      "finished\n"
     ]
    }
   ],
   "source": [
    "init_kg('chatbot', 'password')"
   ]
  },
  {
   "cell_type": "code",
   "execution_count": null,
   "metadata": {},
   "outputs": [],
   "source": [
    "answers = read_json('answers.json')\n",
    "for question in questions:\n",
    "    if question in answers:\n",
    "        continue\n",
    "    print('-' * 60)\n",
    "    print(question)\n",
    "    \n",
    "    answer = []\n",
    "    sentences = shortlist_sentences(question, 1000)\n",
    "\n",
    "    for s in range(len(sentences)):\n",
    "        sentence = sentences[s]\n",
    "        print(s, ':', [round(k, 2) for k in [sentence['sent_text'], sentence['sent_tokens'], sentence['nbr_text'], sentence['nbr_tokens'], sentence['topic1'], sentence['topic2'], sentence['answer_type']]])\n",
    "        print(sentence['sentence'])\n",
    "    answer = list(map(int, input().split()))\n",
    "    for s in range(len(sentences)):\n",
    "        sentences[s]['isCorrect'] = s in answer\n",
    "    answers[question] = sentences\n",
    "    write_json(answers, 'answers.json')"
   ]
  },
  {
   "cell_type": "code",
   "execution_count": null,
   "metadata": {},
   "outputs": [],
   "source": []
  }
 ],
 "metadata": {
  "kernelspec": {
   "display_name": "Python 3",
   "language": "python",
   "name": "python3"
  },
  "language_info": {
   "codemirror_mode": {
    "name": "ipython",
    "version": 3
   },
   "file_extension": ".py",
   "mimetype": "text/x-python",
   "name": "python",
   "nbconvert_exporter": "python",
   "pygments_lexer": "ipython3",
   "version": "3.8.2"
  }
 },
 "nbformat": 4,
 "nbformat_minor": 4
}
