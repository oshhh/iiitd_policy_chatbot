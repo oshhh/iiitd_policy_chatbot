{
 "cells": [
  {
   "cell_type": "code",
   "execution_count": 1,
   "metadata": {},
   "outputs": [
    {
     "name": "stderr",
     "output_type": "stream",
     "text": [
      "/Library/Frameworks/Python.framework/Versions/3.8/lib/python3.8/site-packages/torch/nn/modules/container.py:434: UserWarning: Setting attributes on ParameterList is not supported.\n",
      "  warnings.warn(\"Setting attributes on ParameterList is not supported.\")\n"
     ]
    }
   ],
   "source": [
    "from neo4j import GraphDatabase\n",
    "from allennlp.predictors.predictor import Predictor\n",
    "import allennlp_models.rc\n",
    "\n",
    "driver = GraphDatabase.driver('neo4j://localhost:11003', auth=('chatbot', 'password'))\n",
    "mrc = Predictor.from_path(\"https://storage.googleapis.com/allennlp-public-models/bidaf-elmo-model-2020.03.19.tar.gz\")"
   ]
  },
  {
   "cell_type": "code",
   "execution_count": 2,
   "metadata": {},
   "outputs": [],
   "source": [
    "from helper import *"
   ]
  },
  {
   "cell_type": "code",
   "execution_count": null,
   "metadata": {},
   "outputs": [],
   "source": [
    "def process_query(query):\n",
    "    print('QUESTION:', query)\n",
    "    keywords = find_keywords(query)\n",
    "#     print(keywords)\n",
    "    with driver.session() as session:\n",
    "        sentences = session.read_transaction(run_query, keywords)\n",
    "        for sentence in sentences:\n",
    "            if '.' not in sentence[1][-2:]:\n",
    "                sentence[1] += '.'\n",
    "#             print('*', '(' + str(sentence[2]) + ')', sentence[1])\n",
    "#             print(sentence[1] + '.')\n",
    "    passage = '\\n'.join(sentence[1] for sentence in sentences)\n",
    "    answers = mrc.predict(query, passage)[\"best_span_str\"].split('.')\n",
    "    print('ANSWER:')\n",
    "    for answer in answers:\n",
    "        for sentence in sentences:\n",
    "            if answer in sentence[1]:\n",
    "                print(sentence[1])\n",
    "    print('-' * 50)\n",
    "\n",
    "def shortlist_sentences(tx, keywords):\n",
    "    query = (\n",
    "        'call { \\n' +\n",
    "        'call { \\n' +\n",
    "        'with \\n' + str(keywords) + ' as keywords \\n' +\n",
    "        'match (p:Paragraph)-[]->(s:Sentence)-[]->(:Extraction)-[]->(e:ExtEntity) \\n' + \n",
    "        'match (p)-[]->(:Sentence)-[]->(:Extraction)-[]->(e_nbr:ExtEntity) \\n' + \n",
    "        'with collect(distinct e) as entities, collect(distinct e_nbr) as para_entities, s, keywords \\n' + \n",
    "        'return s.id as s_id, s.text as sentence, round(10 * reduce( \\n' + \n",
    "            'total = 0.0, keyword in keywords| \\n' + \n",
    "                'total + reduce( \\n' + \n",
    "                    'isPresent = 0.0, entity in entities | \\n' + \n",
    "                    'case \\n' + \n",
    "                        'when entity.text = keyword[0] and isPresent < 1.0 then 1.0 \\n' + \n",
    "                        'when entity.text starts with keyword[1] and isPresent < 0.7 then 0.7 \\n' +\n",
    "                        'else isPresent \\n' + \n",
    "                    'end \\n' + \n",
    "                ') + reduce( \\n' + \n",
    "                    'isPresent = 0.0, entity in para_entities | \\n' + \n",
    "                    'case \\n' + \n",
    "                        'when entity in entities then isPresent \\n' + \n",
    "                        'when entity.text = keyword[0] and isPresent < 0.2 then 0.2 \\n' + \n",
    "                        'when entity.text starts with keyword[1] and isPresent < 0.1 then 0.1 \\n' + \n",
    "                        'else isPresent \\n' + \n",
    "                    'end \\n' + \n",
    "                ') \\n' + \n",
    "            ')\\n' + \n",
    "        ')/10 as score \\n' +\n",
    "        'union \\n' +\n",
    "        'with \\n' + str(keywords) + ' as keywords \\n' +\n",
    "        'match (p:Paragraph)-[]->(s:Sentence)-[:about_entity]->(e:ExtEntity) \\n' + \n",
    "        'with collect(distinct e) as entities, s, keywords \\n' + \n",
    "        'return s.id as s_id, s.text as sentence, round(10 * reduce( \\n' + \n",
    "            'total = 0.0, keyword in keywords| \\n' + \n",
    "                'total + reduce( \\n' + \n",
    "                    'isPresent = 0.0, entity in entities | \\n' + \n",
    "                    'case \\n' + \n",
    "                        'when entity.text = keyword[0] and isPresent < 1.0 then 1.0 \\n' + \n",
    "                        'when entity.text starts with keyword[1] and isPresent < 0.7 then 0.7 \\n' +\n",
    "                        'else isPresent \\n' + \n",
    "                    'end \\n' + \n",
    "                ') \\n' + \n",
    "            ')\\n' + \n",
    "        ')/10 as score \\n' + \n",
    "        '} \\n' + \n",
    "        'with s_id, sentence, score \\n' + \n",
    "        'where score >= 0.7 \\n' + \n",
    "        'return s_id, sentence, score \\n' + \n",
    "        'order by score desc ' + \n",
    "        '} \\n' + \n",
    "        'limit 30')\n",
    "    result = tx.run(query)\n",
    "    sentences = []\n",
    "    for record in result:\n",
    "        sentences.append([record['s_id'], record['sentence'], record['score']])\n",
    "    return sentences\n",
    "\n",
    "def get_para_of_sentence(sid):\n",
    "    query = ('match (p:Paragraph)-->(s:Sentence) where s.id = ' + str(s_id) + 'return p.id, p.text')"
   ]
  },
  {
   "cell_type": "code",
   "execution_count": null,
   "metadata": {},
   "outputs": [
    {
     "name": "stdout",
     "output_type": "stream",
     "text": [
      "What is the normal load for UG students\n",
      "[['what', '##NO_MATCH##'], ['normal load', '##NO_MATCH##'], ['person:student:btech', 'person:student']]\n",
      "ANSWER: 16-20 cred\n",
      "--------------------------------------------------\n",
      "If I fail a course and take it again in the later semester, will my earlier course with F grade be removed from the transcript\n",
      "[['i', '##NO_MATCH##'], ['course:course', 'course'], ['it', '##NO_MATCH##'], ['semester:later semester', 'semester'], ['course:earlier course', 'course'], ['grades:f grade', 'grades'], ['transcript', '##NO_MATCH##']]\n",
      "ANSWER: all attemp\n",
      "--------------------------------------------------\n",
      "what is the process of registration?\n",
      "[['what', '##NO_MATCH##'], ['process', '##NO_MATCH##'], ['registration:registration', 'registration']]\n",
      "ANSWER: compulsory\n",
      "--------------------------------------------------\n",
      "how many seats are there in cse for admission?\n",
      "[['many seat', '##NO_MATCH##'], ['department:cse', 'department:cse'], ['admission:admission', 'admission']]\n",
      "ANSWER: The number\n",
      "--------------------------------------------------\n",
      "what is the admission criteria for btech\n",
      "[['what', '##NO_MATCH##'], ['admission:admission criteria', 'admission'], ['program:btech', 'program:btech']]\n"
     ]
    }
   ],
   "source": [
    "process_query('What is the normal load for UG students')\n",
    "process_query('If I fail a course and take it again in the later semester, will my earlier course with F grade be removed from the transcript')\n",
    "process_query('what is the process of registration?')\n",
    "process_query('how many seats are there in cse for admission?')\n",
    "process_query('what is the admission criteria for btech')"
   ]
  },
  {
   "cell_type": "code",
   "execution_count": null,
   "metadata": {},
   "outputs": [],
   "source": [
    "process_query('I am in 1st year. Can I take overload?')\n",
    "process_query('I am in 2nd year. Can I take overload?')"
   ]
  },
  {
   "cell_type": "code",
   "execution_count": null,
   "metadata": {},
   "outputs": [],
   "source": [
    "process_query('what happens if I miss the endsem because of a medical reason?')"
   ]
  },
  {
   "cell_type": "code",
   "execution_count": null,
   "metadata": {},
   "outputs": [],
   "source": [
    "process_query('what happens if I fail a course?')\n",
    "process_query('what happens if I get an F grade in a course?')"
   ]
  },
  {
   "cell_type": "code",
   "execution_count": null,
   "metadata": {},
   "outputs": [],
   "source": []
  },
  {
   "cell_type": "code",
   "execution_count": null,
   "metadata": {},
   "outputs": [],
   "source": []
  }
 ],
 "metadata": {
  "kernelspec": {
   "display_name": "Python 3",
   "language": "python",
   "name": "python3"
  },
  "language_info": {
   "codemirror_mode": {
    "name": "ipython",
    "version": 3
   },
   "file_extension": ".py",
   "mimetype": "text/x-python",
   "name": "python",
   "nbconvert_exporter": "python",
   "pygments_lexer": "ipython3",
   "version": "3.8.2"
  }
 },
 "nbformat": 4,
 "nbformat_minor": 4
}
