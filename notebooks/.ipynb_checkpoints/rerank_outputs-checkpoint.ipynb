{
 "cells": [
  {
   "cell_type": "code",
   "execution_count": 1,
   "metadata": {},
   "outputs": [],
   "source": [
    "from helper import *\n",
    "from tqdm import tqdm"
   ]
  },
  {
   "cell_type": "code",
   "execution_count": 2,
   "metadata": {},
   "outputs": [],
   "source": [
    "import numpy as np\n",
    "from sklearn.linear_model import LogisticRegression\n",
    "from sklearn.metrics import plot_precision_recall_curve, recall_score\n",
    "from sklearn.model_selection import train_test_split, KFold\n",
    "from sklearn.decomposition import PCA"
   ]
  },
  {
   "cell_type": "code",
   "execution_count": 30,
   "metadata": {},
   "outputs": [
    {
     "name": "stderr",
     "output_type": "stream",
     "text": [
      "100%|██████████| 64/64 [00:03<00:00, 20.55it/s]"
     ]
    },
    {
     "name": "stdout",
     "output_type": "stream",
     "text": [
      "[1.0, 0.0, 0.7213475204444817, 0.0, 0.7213475204444817, 1.0, 0.0, 0.0, False]\n"
     ]
    },
    {
     "name": "stderr",
     "output_type": "stream",
     "text": [
      "\n"
     ]
    }
   ],
   "source": [
    "answers = read_json('../data/kg/answers.json')\n",
    "questions = list(answers.keys())\n",
    "questions_train, questions_test = train_test_split(questions, random_state = 0)\n",
    "data = []\n",
    "positives = 0\n",
    "for q in tqdm(questions_train):\n",
    "    q_len = len(find_keywords(q))\n",
    "    for sentence in answers[q]:\n",
    "        positives += sentence['isCorrect']\n",
    "        row = [sentence['sent_stemmed_overlap'], sentence['sent_text'], sentence['sent_tokens'], sentence['nbr_text'], sentence['nbr_tokens'], sentence['topic1'], sentence['topic2'], sentence['answer_type']]\n",
    "        row = list(map(lambda x: x/q_len, row))\n",
    "        row.append(sentence['isCorrect'])\n",
    "        data.append(row)\n",
    "print(data[0])\n"
   ]
  },
  {
   "cell_type": "code",
   "execution_count": 48,
   "metadata": {},
   "outputs": [
    {
     "name": "stderr",
     "output_type": "stream",
     "text": [
      "100%|██████████| 22/22 [00:01<00:00, 20.36it/s]\n"
     ]
    },
    {
     "name": "stdout",
     "output_type": "stream",
     "text": [
      "[9, 11, 11, 13, 14, 14, 14, 15, 16, 16, 16, 17, 18, 18, 18, 19, 19, 19, 21, 21] 22\n"
     ]
    },
    {
     "data": {
      "image/png": "[encoded data removed]",
      "text/plain": [
       "<Figure size 432x288 with 1 Axes>"
      ]
     },
     "metadata": {
      "needs_background": "light"
     },
     "output_type": "display_data"
    }
   ],
   "source": [
    "weights = [1] * 8\n",
    "k = 20\n",
    "top_k = [0 for i in range(k)]\n",
    "for q in tqdm(questions_test):\n",
    "    q_len = len(find_keywords(q))\n",
    "    ranks = []\n",
    "    for sentence in answers[q]:\n",
    "        positives += sentence['isCorrect']\n",
    "        row = [sentence['sent_stemmed_overlap'], sentence['sent_text'], sentence['sent_tokens'], sentence['nbr_text'], sentence['nbr_tokens'], sentence['topic1'], sentence['topic2'], sentence['answer_type']]\n",
    "        row = list(map(lambda x: x/q_len, row))\n",
    "        score = sum([row[i] * weights[i] for i in range(len(row))])\n",
    "        ranks.append((score, sentence['isCorrect']))\n",
    "    ranks.sort(reverse = True)\n",
    "    ranks = ranks[:k]\n",
    "    found = False\n",
    "    for i in range(k):\n",
    "        if i < len(ranks) and ranks[i][1]:\n",
    "            found = True\n",
    "        if found:\n",
    "            top_k[i] += 1\n",
    "print(top_k, len(questions_test))\n",
    "top_k = list(map(lambda x: x/len(questions_test), top_k))\n",
    "import matplotlib.pyplot as plt\n",
    "plt.bar(range(1, k + 1),top_k)\n",
    "plt.bar(range(1, k + 1), list(map(lambda x: 1 - x, top_k)), bottom = top_k)\n",
    "plt.xlabel('k')\n",
    "plt.ylabel('fraction of questions with answer in top k results')\n",
    "plt.title('Performance without reranking')\n",
    "plt.savefig('../data/kg/performance_without_reranking')\n",
    "plt.show()"
   ]
  },
  {
   "cell_type": "code",
   "execution_count": 46,
   "metadata": {},
   "outputs": [
    {
     "name": "stdout",
     "output_type": "stream",
     "text": [
      "90\n",
      "weights: [1.07909863 4.21666614 0.63751472 2.93539744 0.63751472 1.31983937\n",
      " 0.16432386 0.        ]\n",
      "accuracy: 0.9703215169002474 recall: 0.4117647058823529\n",
      "\n",
      "weights: [1.02486958 4.65647584 1.026957   2.41051557 1.026957   0.72356146\n",
      " 0.70231547 0.        ]\n",
      "accuracy: 0.955482275350371 recall: 0.35\n",
      "\n",
      "weights: [1.24016076 4.62384332 0.82800983 2.03596128 0.82800983 1.1874707\n",
      " 0.48600683 0.        ]\n",
      "accuracy: 0.964550700741962 recall: 0.29411764705882354\n",
      "\n",
      "weights: [1.27780633 5.60886747 0.88130474 1.5575556  0.88130474 1.2522953\n",
      " 0.20012395 0.        ]\n",
      "accuracy: 0.966996699669967 recall: 0.21052631578947367\n",
      "\n",
      "weights: [1.69953717 5.32384258 0.7101664  1.72472174 0.7101664  1.27667782\n",
      " 0.60476119 0.        ]\n",
      "accuracy: 0.9554455445544554 recall: 0.29411764705882354\n",
      "\n"
     ]
    }
   ],
   "source": [
    "clf = LogisticRegression(class_weight = {0: positives, 1: len(data) - positives})\n",
    "X = np.array([list(map(float, row[:-1])) for row in data])\n",
    "y = np.array([int(row[-1]) for row in data])\n",
    "print([i for i in y].count(1))\n",
    "\n",
    "for train_index, test_index in KFold(n_splits = 5, shuffle = True, random_state = 0).split(X):\n",
    "    X_train, X_test = X[train_index], X[test_index]\n",
    "    y_train, y_test = y[train_index], y[test_index]\n",
    "    clf.fit(X_train, y_train)\n",
    "    print('weights:', clf.coef_[0])\n",
    "    print('accuracy:', clf.score(X_test, y_test), 'recall:', recall_score(y_test, clf.predict(X_test)))\n",
    "    print()\n",
    "clf.fit(X, y)\n",
    "weights = clf.coef_[0]"
   ]
  },
  {
   "cell_type": "code",
   "execution_count": 47,
   "metadata": {},
   "outputs": [
    {
     "name": "stderr",
     "output_type": "stream",
     "text": [
      "  5%|▍         | 1/22 [00:00<00:02,  8.10it/s]"
     ]
    },
    {
     "name": "stdout",
     "output_type": "stream",
     "text": [
      "weights: [1.26143669 4.81492583 0.8251141  2.16322178 0.8251141  1.16643689\n",
      " 0.43569171 0.        ]\n"
     ]
    },
    {
     "name": "stderr",
     "output_type": "stream",
     "text": [
      "100%|██████████| 22/22 [00:01<00:00, 19.46it/s]\n"
     ]
    },
    {
     "name": "stdout",
     "output_type": "stream",
     "text": [
      "[8, 11, 14, 16, 16, 18, 19, 19, 19, 19, 19, 20, 20, 20, 20, 20, 20, 20, 20, 20] 22\n"
     ]
    },
    {
     "data": {
      "image/png": "[encoded data removed]",
      "text/plain": [
       "<Figure size 432x288 with 1 Axes>"
      ]
     },
     "metadata": {
      "needs_background": "light"
     },
     "output_type": "display_data"
    }
   ],
   "source": [
    "print('weights:', weights)\n",
    "k = 20\n",
    "top_k = [0 for i in range(k)]\n",
    "for q in tqdm(questions_test):\n",
    "    q_len = len(find_keywords(q))\n",
    "    ranks = []\n",
    "    for sentence in answers[q]:\n",
    "        positives += sentence['isCorrect']\n",
    "        row = [sentence['sent_stemmed_overlap'], sentence['sent_text'], sentence['sent_tokens'], sentence['nbr_text'], sentence['nbr_tokens'], sentence['topic1'], sentence['topic2'], sentence['answer_type']]\n",
    "        row = list(map(lambda x: x/q_len, row))\n",
    "        score = sum([row[i] * weights[i] for i in range(len(row))])\n",
    "        ranks.append((score, sentence['isCorrect']))\n",
    "    ranks.sort(reverse = True)\n",
    "    ranks = ranks[:k]\n",
    "    found = False\n",
    "    for i in range(k):\n",
    "        if i < len(ranks) and ranks[i][1]:\n",
    "            found = True\n",
    "        if found:\n",
    "            top_k[i] += 1\n",
    "print(top_k, len(questions_test))\n",
    "top_k = list(map(lambda x: x/len(questions_test), top_k))\n",
    "import matplotlib.pyplot as plt\n",
    "plt.bar(range(1, k + 1),top_k)\n",
    "plt.bar(range(1, k + 1), list(map(lambda x: 1 - x, top_k)), bottom = top_k)\n",
    "plt.xlabel('k')\n",
    "plt.ylabel('fraction of questions with answer in top k results')\n",
    "plt.title('Performance with reranking')\n",
    "plt.savefig('../data/kg/performance_with_reranking')\n",
    "plt.show()"
   ]
  },
  {
   "cell_type": "code",
   "execution_count": null,
   "metadata": {},
   "outputs": [],
   "source": []
  }
 ],
 "metadata": {
  "kernelspec": {
   "display_name": "Python 3",
   "language": "python",
   "name": "python3"
  },
  "language_info": {
   "codemirror_mode": {
    "name": "ipython",
    "version": 3
   },
   "file_extension": ".py",
   "mimetype": "text/x-python",
   "name": "python",
   "nbconvert_exporter": "python",
   "pygments_lexer": "ipython3",
   "version": "3.8.2"
  }
 },
 "nbformat": 4,
 "nbformat_minor": 4
}
