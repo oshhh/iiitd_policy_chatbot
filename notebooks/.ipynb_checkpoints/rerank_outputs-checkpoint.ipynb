{
 "cells": [
  {
   "cell_type": "code",
   "execution_count": 1,
   "metadata": {},
   "outputs": [],
   "source": [
    "from helper import *\n",
    "from tqdm import tqdm"
   ]
  },
  {
   "cell_type": "code",
   "execution_count": 2,
   "metadata": {},
   "outputs": [],
   "source": [
    "import numpy as np\n",
    "from sklearn.linear_model import LogisticRegression\n",
    "from sklearn.metrics import plot_precision_recall_curve, recall_score\n",
    "from sklearn.model_selection import train_test_split, KFold\n",
    "from sklearn.decomposition import PCA"
   ]
  },
  {
   "cell_type": "code",
   "execution_count": 3,
   "metadata": {},
   "outputs": [
    {
     "name": "stderr",
     "output_type": "stream",
     "text": [
      "100%|██████████| 64/64 [00:03<00:00, 19.73it/s]"
     ]
    },
    {
     "name": "stdout",
     "output_type": "stream",
     "text": [
      "[1.0, 0.0, 0.7213475204444817, 0.0, 0.7213475204444817, 1.0, 0.0, 0.0, False]\n"
     ]
    },
    {
     "name": "stderr",
     "output_type": "stream",
     "text": [
      "\n"
     ]
    }
   ],
   "source": [
    "answers = read_json('../data/kg/answers.json')\n",
    "questions = list(answers.keys())\n",
    "questions_train, questions_test = train_test_split(questions, random_state = 0)\n",
    "data = []\n",
    "positives = 0\n",
    "for q in tqdm(questions_train):\n",
    "    q_len = len(find_keywords(q))\n",
    "    for sentence in answers[q]:\n",
    "        positives += sentence['isCorrect']\n",
    "        row = [sentence['sent_stemmed_overlap'], sentence['sent_text'], sentence['sent_tokens'], sentence['nbr_text'], sentence['nbr_tokens'], sentence['topic1'], sentence['topic2'], sentence['answer_type']]\n",
    "        row = list(map(lambda x: x/q_len, row))\n",
    "        row.append(sentence['isCorrect'])\n",
    "        data.append(row)\n",
    "print(data[0])\n"
   ]
  },
  {
   "cell_type": "code",
   "execution_count": 4,
   "metadata": {},
   "outputs": [
    {
     "name": "stdout",
     "output_type": "stream",
     "text": [
      "90\n",
      "weights: [1.52928221 4.84208777 1.05179532 3.18376386 1.05179532 1.63912702\n",
      " 0.1497527  0.        ]\n",
      "accuracy: 0.843363561417972 recall: 0.9411764705882353\n",
      "\n",
      "weights: [1.35575607 5.48189938 1.27539785 2.96964448 1.27539785 1.05311587\n",
      " 0.60230071 0.        ]\n",
      "accuracy: 0.8458367683429514 recall: 0.8\n",
      "\n",
      "weights: [1.75551228 5.4039375  1.06211018 2.49036139 1.06211018 1.55761712\n",
      " 0.31066662 0.        ]\n",
      "accuracy: 0.8507831821929102 recall: 0.7647058823529411\n",
      "\n",
      "weights: [1.9269483  6.61609571 1.16109378 1.81343825 1.16109378 1.67796708\n",
      " 0.00940152 0.        ]\n",
      "accuracy: 0.8613861386138614 recall: 0.6842105263157895\n",
      "\n",
      "weights: [2.20367604 5.85424218 1.00845481 2.70141555 1.00845481 1.54443818\n",
      " 0.48805435 0.        ]\n",
      "accuracy: 0.844059405940594 recall: 0.7647058823529411\n",
      "\n"
     ]
    }
   ],
   "source": [
    "clf = LogisticRegression(class_weight = {0: positives, 1: len(data) - positives})\n",
    "X = np.array([list(map(float, row[:-1])) for row in data])\n",
    "y = np.array([int(row[-1]) for row in data])\n",
    "print([i for i in y].count(1))\n",
    "\n",
    "for train_index, test_index in KFold(n_splits = 5, shuffle = True, random_state = 0).split(X):\n",
    "    X_train, X_test = X[train_index], X[test_index]\n",
    "    y_train, y_test = y[train_index], y[test_index]\n",
    "    clf.fit(X_train, y_train)\n",
    "    print('weights:', clf.coef_[0])\n",
    "    print('accuracy:', clf.score(X_test, y_test), 'recall:', recall_score(y_test, clf.predict(X_test)))\n",
    "    print()\n",
    "clf.fit(X, y)\n",
    "weights = clf.coef_[0]"
   ]
  },
  {
   "cell_type": "code",
   "execution_count": 10,
   "metadata": {},
   "outputs": [
    {
     "name": "stderr",
     "output_type": "stream",
     "text": [
      "  9%|▉         | 2/22 [00:00<00:01, 11.50it/s]"
     ]
    },
    {
     "name": "stdout",
     "output_type": "stream",
     "text": [
      "weights: [1.77087296 5.50115097 1.10609963 2.70381795 1.10609963 1.51921344\n",
      " 0.31516321 0.        ]\n"
     ]
    },
    {
     "name": "stderr",
     "output_type": "stream",
     "text": [
      "100%|██████████| 22/22 [00:01<00:00, 18.66it/s]\n"
     ]
    },
    {
     "name": "stdout",
     "output_type": "stream",
     "text": [
      "[10, 14, 14, 14, 15, 15, 15, 17, 19, 19, 19, 19, 19, 19, 19] 22\n"
     ]
    },
    {
     "data": {
      "image/png": "[encoded data removed]",
      "text/plain": [
       "<Figure size 432x288 with 1 Axes>"
      ]
     },
     "metadata": {
      "needs_background": "light"
     },
     "output_type": "display_data"
    }
   ],
   "source": [
    "print('weights:', weights)\n",
    "k = 15\n",
    "top_k = [0 for i in range(k)]\n",
    "for q in tqdm(questions_test):\n",
    "    q_len = len(find_keywords(q))\n",
    "    ranks = []\n",
    "    for sentence in answers[q]:\n",
    "        positives += sentence['isCorrect']\n",
    "        row = [sentence['sent_stemmed_overlap'], sentence['sent_text'], sentence['sent_tokens'], sentence['nbr_text'], sentence['nbr_tokens'], sentence['topic1'], sentence['topic2'], sentence['answer_type']]\n",
    "        row = list(map(lambda x: x/q_len, row))\n",
    "        score = [row[i] * weights[i] for i in range(len(row))]\n",
    "        ranks.append((score, sentence['isCorrect']))\n",
    "    ranks.sort(reverse = True)\n",
    "    ranks = ranks[:k]\n",
    "    found = False\n",
    "    for i in range(k):\n",
    "        if i < len(ranks) and ranks[i][1]:\n",
    "            found = True\n",
    "        if found:\n",
    "            top_k[i] += 1\n",
    "print(top_k, len(questions_test))\n",
    "top_k = list(map(lambda x: x/len(questions_test), top_k))\n",
    "import matplotlib.pyplot as plt\n",
    "plt.bar(range(1, k + 1),top_k)\n",
    "plt.bar(range(1, k + 1), list(map(lambda x: 1 - x, top_k)), bottom = top_k)\n",
    "plt.xlabel('k')\n",
    "plt.ylabel('number of questions with answer in top k results')\n",
    "plt.title('Knowledge Graph performance')\n",
    "plt.savefig('../data/kg/performance')\n",
    "plt.show()"
   ]
  },
  {
   "cell_type": "code",
   "execution_count": null,
   "metadata": {},
   "outputs": [],
   "source": []
  }
 ],
 "metadata": {
  "kernelspec": {
   "display_name": "Python 3",
   "language": "python",
   "name": "python3"
  },
  "language_info": {
   "codemirror_mode": {
    "name": "ipython",
    "version": 3
   },
   "file_extension": ".py",
   "mimetype": "text/x-python",
   "name": "python",
   "nbconvert_exporter": "python",
   "pygments_lexer": "ipython3",
   "version": "3.8.2"
  }
 },
 "nbformat": 4,
 "nbformat_minor": 4
}
